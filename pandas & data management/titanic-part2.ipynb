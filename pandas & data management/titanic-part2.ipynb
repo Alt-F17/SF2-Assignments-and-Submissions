{
 "cells": [
  {
   "cell_type": "markdown",
   "metadata": {},
   "source": [
    "# part 1"
   ]
  },
  {
   "cell_type": "markdown",
   "metadata": {},
   "source": [
    "import all necessary libraries (i.e. pandas and matplotlib)"
   ]
  },
  {
   "cell_type": "code",
   "execution_count": 35,
   "metadata": {},
   "outputs": [],
   "source": [
    "# your code here\n",
    "import pandas as pd\n",
    "import matplotlib.pyplot as plt"
   ]
  },
  {
   "cell_type": "markdown",
   "metadata": {},
   "source": [
    "Read the provided file `titanic.csv` into a DataFrame"
   ]
  },
  {
   "cell_type": "code",
   "execution_count": 3,
   "metadata": {},
   "outputs": [],
   "source": [
    "# your code here\n",
    "titanic = pd.read_csv('titanic.csv')"
   ]
  },
  {
   "cell_type": "markdown",
   "metadata": {},
   "source": [
    "print the following\n",
    "- entries from the data frame\n",
    "- descriptive statistics, what is the average age, the maximum number of siblings and children? \n",
    "- general information\n",
    "- first 5 entries\n",
    "- first 15 entries\n",
    "- last 5 entries\n",
    "- last 15 entries\n",
    "- sample of random 10 entries"
   ]
  },
  {
   "cell_type": "code",
   "execution_count": null,
   "metadata": {},
   "outputs": [],
   "source": [
    "# your code here\n",
    "titanic\n",
    "titanic.describe()\n",
    "titanic.info()\n",
    "titanic.head()\n",
    "titanic.head(15)\n",
    "titanic.tail()\n",
    "titanic.tail(15)\n",
    "titanic.sample(10)\n"
   ]
  },
  {
   "cell_type": "markdown",
   "metadata": {},
   "source": [
    "draw a histogram for age distribution using `matplotlib`"
   ]
  },
  {
   "cell_type": "code",
   "execution_count": null,
   "metadata": {},
   "outputs": [],
   "source": [
    "# your code here\n",
    "\n",
    "plt.hist(titanic['age'])"
   ]
  },
  {
   "cell_type": "markdown",
   "metadata": {},
   "source": [
    "- Create a new DataFrame with only entries where age > 30.  \n",
    "- Give number of such entires\n",
    "- show only the women entries, how many  are there over the age of 30\n",
    "- the men entries, how many men are there over the age of 30\n",
    "- plot the new histogram for all ages >30, how does this histogram differ from the one you plotted above?"
   ]
  },
  {
   "cell_type": "code",
   "execution_count": null,
   "metadata": {},
   "outputs": [],
   "source": [
    "# your code here\n",
    "titanic[titanic['age']>30]\n",
    "titanic[titanic['age']>30].shape[0]\n",
    "titanic[(titanic['age'] > 30) & (titanic['who'] == 'woman')].shape[0]\n",
    "titanic[(titanic['age'] > 30) & (titanic['who'] == 'man')].shape[0]\n",
    "titanic[titanic['age']>30].hist() # difference = Only includes those whose age is >30, thus fewer entries for each categories on the x-axis"
   ]
  },
  {
   "cell_type": "markdown",
   "metadata": {},
   "source": [
    "Use `pandas` to plot the pie chart of all classes on board the titanic.  "
   ]
  },
  {
   "cell_type": "code",
   "execution_count": null,
   "metadata": {},
   "outputs": [],
   "source": [
    "# your code here\n",
    "titanic['class'].value_counts().plot(kind='pie')"
   ]
  },
  {
   "cell_type": "markdown",
   "metadata": {},
   "source": [
    "use `pandas` to plot the bar chart of all towns that people embarked from.  "
   ]
  },
  {
   "cell_type": "code",
   "execution_count": null,
   "metadata": {},
   "outputs": [],
   "source": [
    "# your code here\n",
    "titanic['embark_town'].value_counts().plot(kind='bar')"
   ]
  },
  {
   "cell_type": "markdown",
   "metadata": {},
   "source": [
    "# part 2"
   ]
  },
  {
   "cell_type": "markdown",
   "metadata": {},
   "source": [
    "- Create a new DataFrame with 3 columns: fare, class, embark_town.  \n",
    "- Clean your data from all `NaN` values.  \n",
    "- Sort your DataFrame by fare in decreasing order.  \n",
    "- Sort the same data frame in alphabetical order of the embarked_town."
   ]
  },
  {
   "cell_type": "code",
   "execution_count": 158,
   "metadata": {},
   "outputs": [
    {
     "data": {
      "text/html": [
       "<div>\n",
       "<style scoped>\n",
       "    .dataframe tbody tr th:only-of-type {\n",
       "        vertical-align: middle;\n",
       "    }\n",
       "\n",
       "    .dataframe tbody tr th {\n",
       "        vertical-align: top;\n",
       "    }\n",
       "\n",
       "    .dataframe thead th {\n",
       "        text-align: right;\n",
       "    }\n",
       "</style>\n",
       "<table border=\"1\" class=\"dataframe\">\n",
       "  <thead>\n",
       "    <tr style=\"text-align: right;\">\n",
       "      <th></th>\n",
       "      <th>fare</th>\n",
       "      <th>class</th>\n",
       "      <th>embark_town</th>\n",
       "    </tr>\n",
       "  </thead>\n",
       "  <tbody>\n",
       "    <tr>\n",
       "      <th>258</th>\n",
       "      <td>512.3292</td>\n",
       "      <td>First</td>\n",
       "      <td>Cherbourg</td>\n",
       "    </tr>\n",
       "    <tr>\n",
       "      <th>125</th>\n",
       "      <td>11.2417</td>\n",
       "      <td>Third</td>\n",
       "      <td>Cherbourg</td>\n",
       "    </tr>\n",
       "    <tr>\n",
       "      <th>354</th>\n",
       "      <td>7.2250</td>\n",
       "      <td>Third</td>\n",
       "      <td>Cherbourg</td>\n",
       "    </tr>\n",
       "    <tr>\n",
       "      <th>352</th>\n",
       "      <td>7.2292</td>\n",
       "      <td>Third</td>\n",
       "      <td>Cherbourg</td>\n",
       "    </tr>\n",
       "    <tr>\n",
       "      <th>128</th>\n",
       "      <td>22.3583</td>\n",
       "      <td>Third</td>\n",
       "      <td>Cherbourg</td>\n",
       "    </tr>\n",
       "    <tr>\n",
       "      <th>...</th>\n",
       "      <td>...</td>\n",
       "      <td>...</td>\n",
       "      <td>...</td>\n",
       "    </tr>\n",
       "    <tr>\n",
       "      <th>351</th>\n",
       "      <td>35.0000</td>\n",
       "      <td>First</td>\n",
       "      <td>Southampton</td>\n",
       "    </tr>\n",
       "    <tr>\n",
       "      <th>353</th>\n",
       "      <td>17.8000</td>\n",
       "      <td>Third</td>\n",
       "      <td>Southampton</td>\n",
       "    </tr>\n",
       "    <tr>\n",
       "      <th>355</th>\n",
       "      <td>9.5000</td>\n",
       "      <td>Third</td>\n",
       "      <td>Southampton</td>\n",
       "    </tr>\n",
       "    <tr>\n",
       "      <th>344</th>\n",
       "      <td>13.0000</td>\n",
       "      <td>Second</td>\n",
       "      <td>Southampton</td>\n",
       "    </tr>\n",
       "    <tr>\n",
       "      <th>445</th>\n",
       "      <td>81.8583</td>\n",
       "      <td>First</td>\n",
       "      <td>Southampton</td>\n",
       "    </tr>\n",
       "  </tbody>\n",
       "</table>\n",
       "<p>889 rows × 3 columns</p>\n",
       "</div>"
      ],
      "text/plain": [
       "         fare   class  embark_town\n",
       "258  512.3292   First    Cherbourg\n",
       "125   11.2417   Third    Cherbourg\n",
       "354    7.2250   Third    Cherbourg\n",
       "352    7.2292   Third    Cherbourg\n",
       "128   22.3583   Third    Cherbourg\n",
       "..        ...     ...          ...\n",
       "351   35.0000   First  Southampton\n",
       "353   17.8000   Third  Southampton\n",
       "355    9.5000   Third  Southampton\n",
       "344   13.0000  Second  Southampton\n",
       "445   81.8583   First  Southampton\n",
       "\n",
       "[889 rows x 3 columns]"
      ]
     },
     "execution_count": 158,
     "metadata": {},
     "output_type": "execute_result"
    }
   ],
   "source": [
    "# your code here\n",
    "titanic[['fare', 'class', 'embark_town']]\n",
    "titanic[['fare', 'class', 'embark_town']][titanic.notna()]\n",
    "titanic[['fare', 'class', 'embark_town']][titanic.notna()].sort_values('fare', ascending=False) \n",
    "titanic[['fare', 'class', 'embark_town']][titanic['embark_town'].notna()].sort_values('embark_town')"
   ]
  },
  {
   "cell_type": "markdown",
   "metadata": {},
   "source": [
    "Create a new DataFrame that holds all entries with classes 2 or 3.  Plot the histogram of classes 2 and 3.\n",
    "In pandas `&` corresponds to logical `and`, and `|` corresponds to logical `or`"
   ]
  },
  {
   "cell_type": "code",
   "execution_count": 159,
   "metadata": {},
   "outputs": [
    {
     "data": {
      "text/plain": [
       "array([[<Axes: title={'center': 'survived'}>,\n",
       "        <Axes: title={'center': 'pclass'}>],\n",
       "       [<Axes: title={'center': 'age'}>,\n",
       "        <Axes: title={'center': 'sibsp'}>],\n",
       "       [<Axes: title={'center': 'fare'}>, <Axes: >]], dtype=object)"
      ]
     },
     "execution_count": 159,
     "metadata": {},
     "output_type": "execute_result"
    },
    {
     "data": {
      "image/png": "[encoded data removed]",
      "text/plain": [
       "<Figure size 640x480 with 6 Axes>"
      ]
     },
     "metadata": {},
     "output_type": "display_data"
    }
   ],
   "source": [
    "# your code here\n",
    "titanic[titanic['class'].isin(['Second', 'Third'])].hist() # fun new function to replace \"or\"s"
   ]
  },
  {
   "cell_type": "markdown",
   "metadata": {},
   "source": [
    "Customize row indices such that indices are according to embarked town, drop all `NaN` values, and sort in alphabetical order of embarked town. "
   ]
  },
  {
   "cell_type": "code",
   "execution_count": 160,
   "metadata": {},
   "outputs": [
    {
     "data": {
      "text/html": [
       "<div>\n",
       "<style scoped>\n",
       "    .dataframe tbody tr th:only-of-type {\n",
       "        vertical-align: middle;\n",
       "    }\n",
       "\n",
       "    .dataframe tbody tr th {\n",
       "        vertical-align: top;\n",
       "    }\n",
       "\n",
       "    .dataframe thead th {\n",
       "        text-align: right;\n",
       "    }\n",
       "</style>\n",
       "<table border=\"1\" class=\"dataframe\">\n",
       "  <thead>\n",
       "    <tr style=\"text-align: right;\">\n",
       "      <th></th>\n",
       "      <th>survived</th>\n",
       "      <th>pclass</th>\n",
       "      <th>sex</th>\n",
       "      <th>age</th>\n",
       "      <th>sibsp</th>\n",
       "      <th>fare</th>\n",
       "      <th>class</th>\n",
       "      <th>who</th>\n",
       "      <th>adult_male</th>\n",
       "      <th>deck</th>\n",
       "      <th>alive</th>\n",
       "      <th>alone</th>\n",
       "    </tr>\n",
       "    <tr>\n",
       "      <th>embark_town</th>\n",
       "      <th></th>\n",
       "      <th></th>\n",
       "      <th></th>\n",
       "      <th></th>\n",
       "      <th></th>\n",
       "      <th></th>\n",
       "      <th></th>\n",
       "      <th></th>\n",
       "      <th></th>\n",
       "      <th></th>\n",
       "      <th></th>\n",
       "      <th></th>\n",
       "    </tr>\n",
       "  </thead>\n",
       "  <tbody>\n",
       "    <tr>\n",
       "      <th>Cherbourg</th>\n",
       "      <td>1</td>\n",
       "      <td>1</td>\n",
       "      <td>female</td>\n",
       "      <td>38.0</td>\n",
       "      <td>1</td>\n",
       "      <td>71.2833</td>\n",
       "      <td>First</td>\n",
       "      <td>woman</td>\n",
       "      <td>False</td>\n",
       "      <td>C</td>\n",
       "      <td>yes</td>\n",
       "      <td>False</td>\n",
       "    </tr>\n",
       "    <tr>\n",
       "      <th>Cherbourg</th>\n",
       "      <td>0</td>\n",
       "      <td>1</td>\n",
       "      <td>male</td>\n",
       "      <td>18.0</td>\n",
       "      <td>1</td>\n",
       "      <td>108.9000</td>\n",
       "      <td>First</td>\n",
       "      <td>man</td>\n",
       "      <td>True</td>\n",
       "      <td>C</td>\n",
       "      <td>no</td>\n",
       "      <td>False</td>\n",
       "    </tr>\n",
       "    <tr>\n",
       "      <th>Cherbourg</th>\n",
       "      <td>1</td>\n",
       "      <td>1</td>\n",
       "      <td>female</td>\n",
       "      <td>54.0</td>\n",
       "      <td>1</td>\n",
       "      <td>78.2667</td>\n",
       "      <td>First</td>\n",
       "      <td>woman</td>\n",
       "      <td>False</td>\n",
       "      <td>D</td>\n",
       "      <td>yes</td>\n",
       "      <td>False</td>\n",
       "    </tr>\n",
       "    <tr>\n",
       "      <th>Cherbourg</th>\n",
       "      <td>0</td>\n",
       "      <td>1</td>\n",
       "      <td>male</td>\n",
       "      <td>58.0</td>\n",
       "      <td>0</td>\n",
       "      <td>29.7000</td>\n",
       "      <td>First</td>\n",
       "      <td>man</td>\n",
       "      <td>True</td>\n",
       "      <td>B</td>\n",
       "      <td>no</td>\n",
       "      <td>True</td>\n",
       "    </tr>\n",
       "    <tr>\n",
       "      <th>Cherbourg</th>\n",
       "      <td>1</td>\n",
       "      <td>1</td>\n",
       "      <td>male</td>\n",
       "      <td>25.0</td>\n",
       "      <td>1</td>\n",
       "      <td>91.0792</td>\n",
       "      <td>First</td>\n",
       "      <td>man</td>\n",
       "      <td>True</td>\n",
       "      <td>B</td>\n",
       "      <td>yes</td>\n",
       "      <td>False</td>\n",
       "    </tr>\n",
       "    <tr>\n",
       "      <th>...</th>\n",
       "      <td>...</td>\n",
       "      <td>...</td>\n",
       "      <td>...</td>\n",
       "      <td>...</td>\n",
       "      <td>...</td>\n",
       "      <td>...</td>\n",
       "      <td>...</td>\n",
       "      <td>...</td>\n",
       "      <td>...</td>\n",
       "      <td>...</td>\n",
       "      <td>...</td>\n",
       "      <td>...</td>\n",
       "    </tr>\n",
       "    <tr>\n",
       "      <th>Southampton</th>\n",
       "      <td>1</td>\n",
       "      <td>1</td>\n",
       "      <td>male</td>\n",
       "      <td>48.0</td>\n",
       "      <td>0</td>\n",
       "      <td>26.5500</td>\n",
       "      <td>First</td>\n",
       "      <td>man</td>\n",
       "      <td>True</td>\n",
       "      <td>E</td>\n",
       "      <td>yes</td>\n",
       "      <td>True</td>\n",
       "    </tr>\n",
       "    <tr>\n",
       "      <th>Southampton</th>\n",
       "      <td>1</td>\n",
       "      <td>1</td>\n",
       "      <td>female</td>\n",
       "      <td>19.0</td>\n",
       "      <td>0</td>\n",
       "      <td>30.0000</td>\n",
       "      <td>First</td>\n",
       "      <td>woman</td>\n",
       "      <td>False</td>\n",
       "      <td>B</td>\n",
       "      <td>yes</td>\n",
       "      <td>True</td>\n",
       "    </tr>\n",
       "    <tr>\n",
       "      <th>Southampton</th>\n",
       "      <td>1</td>\n",
       "      <td>1</td>\n",
       "      <td>male</td>\n",
       "      <td>52.0</td>\n",
       "      <td>0</td>\n",
       "      <td>30.5000</td>\n",
       "      <td>First</td>\n",
       "      <td>man</td>\n",
       "      <td>True</td>\n",
       "      <td>C</td>\n",
       "      <td>yes</td>\n",
       "      <td>True</td>\n",
       "    </tr>\n",
       "    <tr>\n",
       "      <th>Southampton</th>\n",
       "      <td>0</td>\n",
       "      <td>1</td>\n",
       "      <td>male</td>\n",
       "      <td>47.0</td>\n",
       "      <td>0</td>\n",
       "      <td>52.0000</td>\n",
       "      <td>First</td>\n",
       "      <td>man</td>\n",
       "      <td>True</td>\n",
       "      <td>C</td>\n",
       "      <td>no</td>\n",
       "      <td>True</td>\n",
       "    </tr>\n",
       "    <tr>\n",
       "      <th>Southampton</th>\n",
       "      <td>0</td>\n",
       "      <td>1</td>\n",
       "      <td>male</td>\n",
       "      <td>65.0</td>\n",
       "      <td>0</td>\n",
       "      <td>26.5500</td>\n",
       "      <td>First</td>\n",
       "      <td>man</td>\n",
       "      <td>True</td>\n",
       "      <td>E</td>\n",
       "      <td>no</td>\n",
       "      <td>True</td>\n",
       "    </tr>\n",
       "  </tbody>\n",
       "</table>\n",
       "<p>182 rows × 12 columns</p>\n",
       "</div>"
      ],
      "text/plain": [
       "             survived  pclass     sex   age  sibsp      fare  class    who  \\\n",
       "embark_town                                                                  \n",
       "Cherbourg           1       1  female  38.0      1   71.2833  First  woman   \n",
       "Cherbourg           0       1    male  18.0      1  108.9000  First    man   \n",
       "Cherbourg           1       1  female  54.0      1   78.2667  First  woman   \n",
       "Cherbourg           0       1    male  58.0      0   29.7000  First    man   \n",
       "Cherbourg           1       1    male  25.0      1   91.0792  First    man   \n",
       "...               ...     ...     ...   ...    ...       ...    ...    ...   \n",
       "Southampton         1       1    male  48.0      0   26.5500  First    man   \n",
       "Southampton         1       1  female  19.0      0   30.0000  First  woman   \n",
       "Southampton         1       1    male  52.0      0   30.5000  First    man   \n",
       "Southampton         0       1    male  47.0      0   52.0000  First    man   \n",
       "Southampton         0       1    male  65.0      0   26.5500  First    man   \n",
       "\n",
       "             adult_male deck alive  alone  \n",
       "embark_town                                \n",
       "Cherbourg         False    C   yes  False  \n",
       "Cherbourg          True    C    no  False  \n",
       "Cherbourg         False    D   yes  False  \n",
       "Cherbourg          True    B    no   True  \n",
       "Cherbourg          True    B   yes  False  \n",
       "...                 ...  ...   ...    ...  \n",
       "Southampton        True    E   yes   True  \n",
       "Southampton       False    B   yes   True  \n",
       "Southampton        True    C   yes   True  \n",
       "Southampton        True    C    no   True  \n",
       "Southampton        True    E    no   True  \n",
       "\n",
       "[182 rows x 12 columns]"
      ]
     },
     "execution_count": 160,
     "metadata": {},
     "output_type": "execute_result"
    }
   ],
   "source": [
    "# your code here\n",
    "titanic.dropna().sort_values('embark_town').set_index('embark_town')"
   ]
  },
  {
   "cell_type": "markdown",
   "metadata": {},
   "source": [
    "Let's aggregate data into groups\n",
    "- get the number of entries from each class (i.e. pclass column in csv file). How many people are in first class, how many in second class and how many in third? \n",
    "- get number of entries from each town.  There are a total of how many towns that people embarked from? \n",
    "- get general summary of each class, round the date to 2 decimal places and display your data such that the three classes are shown as columns\n",
    "- get the number of suvivors and non-survivors in each class. \n",
    "- show full DataFrame of how many children, women and men are in each of the three classes. \n",
    "- plot women, men, children according to class"
   ]
  },
  {
   "cell_type": "code",
   "execution_count": 161,
   "metadata": {},
   "outputs": [
    {
     "data": {
      "text/plain": [
       "<Axes: title={'center': 'CLASS DISTRIBUTION OF W/M/C FOR EACH CLASS'}, xlabel='CLASSES', ylabel='No OF PASSANGERS'>"
      ]
     },
     "execution_count": 161,
     "metadata": {},
     "output_type": "execute_result"
    },
    {
     "data": {
      "image/png": "[encoded data removed]",
      "text/plain": [
       "<Figure size 640x480 with 1 Axes>"
      ]
     },
     "metadata": {},
     "output_type": "display_data"
    }
   ],
   "source": [
    "# your code here\n",
    "titanic['pclass'].value_counts()\n",
    "\n",
    "titanic.groupby('embark_town').size()\n",
    "\n",
    "titanic.groupby('pclass').describe().round(2).T\n",
    "\n",
    "titanic.groupby(['pclass','survived']).size()\n",
    "\n",
    "titanic.groupby(['pclass', 'who']).count()\n",
    "\n",
    "titanic.groupby(['pclass', 'who']).size().unstack().plot(kind='bar', xlabel=\"CLASSES\", ylabel=\"No OF PASSANGERS\", title=\"CLASS DISTRIBUTION OF W/M/C FOR EACH CLASS\")"
   ]
  },
  {
   "cell_type": "markdown",
   "metadata": {},
   "source": [
    "- Plot a histogram with age on the x-axis and number of people on the y-axis and the histogram depicts the number of survivors and non-survivors (overlayed one on top of the other).\n",
    "- Plot a histogram with the age on the x-axis and number of people on the y-axis and the histogram depicts the 3 classes (again, overlayed on top of the other).\n",
    "- Plot the 2 figures above in one figure as subplots. (since both measure the number of people)."
   ]
  },
  {
   "cell_type": "code",
   "execution_count": 192,
   "metadata": {},
   "outputs": [
    {
     "name": "stderr",
     "output_type": "stream",
     "text": [
      "C:\\Users\\felix\\AppData\\Local\\Temp\\ipykernel_47972\\699949143.py:6: FutureWarning: The default of observed=False is deprecated and will be changed to True in a future version of pandas. Pass observed=False to retain current behavior or observed=True to adopt the future default and silence this warning.\n",
      "  titanic.groupby([ages_grouped, 'survived']).size().unstack().plot(kind='bar', stacked=True, width=1)\n",
      "C:\\Users\\felix\\AppData\\Local\\Temp\\ipykernel_47972\\699949143.py:9: FutureWarning: The default of observed=False is deprecated and will be changed to True in a future version of pandas. Pass observed=False to retain current behavior or observed=True to adopt the future default and silence this warning.\n",
      "  titanic.groupby([ages_grouped, 'pclass']).size().unstack().plot(kind='bar', stacked=True, width=1)\n",
      "C:\\Users\\felix\\AppData\\Local\\Temp\\ipykernel_47972\\699949143.py:12: FutureWarning: The default of observed=False is deprecated and will be changed to True in a future version of pandas. Pass observed=False to retain current behavior or observed=True to adopt the future default and silence this warning.\n",
      "  titanic.groupby([ages_grouped, 'survived', 'pclass']).size().unstack().unstack().plot(kind='bar', stacked=True, width=1)\n"
     ]
    },
    {
     "data": {
      "text/plain": [
       "<Axes: xlabel='age'>"
      ]
     },
     "execution_count": 192,
     "metadata": {},
     "output_type": "execute_result"
    },
    {
     "data": {
      "image/png": "[encoded data removed]",
      "text/plain": [
       "<Figure size 640x480 with 1 Axes>"
      ]
     },
     "metadata": {},
     "output_type": "display_data"
    },
    {
     "data": {
      "image/png": "[encoded data removed]",
      "text/plain": [
       "<Figure size 640x480 with 1 Axes>"
      ]
     },
     "metadata": {},
     "output_type": "display_data"
    },
    {
     "data": {
      "image/png": "[encoded data removed]",
      "text/plain": [
       "<Figure size 640x480 with 1 Axes>"
      ]
     },
     "metadata": {},
     "output_type": "display_data"
    }
   ],
   "source": [
    "# Initial variable to group the ages in groups of AGE_GROUP_SIZE years\n",
    "AGE_GROUP_SIZE = 10\n",
    "ages_grouped = pd.cut(titanic['age'], range(0, 100, AGE_GROUP_SIZE))\n",
    "\n",
    "# Q1\n",
    "titanic.groupby([ages_grouped, 'survived']).size().unstack().plot(kind='bar', stacked=True, width=1)\n",
    "\n",
    "# Q2\n",
    "titanic.groupby([ages_grouped, 'pclass']).size().unstack().plot(kind='bar', stacked=True, width=1)\n",
    "\n",
    "# Q3\n",
    "titanic.groupby([ages_grouped, 'survived', 'pclass']).size().unstack().unstack().plot(kind='bar', stacked=True, width=1)"
   ]
  }
 ],
 "metadata": {
  "kernelspec": {
   "display_name": "Python 3",
   "language": "python",
   "name": "python3"
  },
  "language_info": {
   "codemirror_mode": {
    "name": "ipython",
    "version": 3
   },
   "file_extension": ".py",
   "mimetype": "text/x-python",
   "name": "python",
   "nbconvert_exporter": "python",
   "pygments_lexer": "ipython3",
   "version": "3.11.9"
  }
 },
 "nbformat": 4,
 "nbformat_minor": 2
}
