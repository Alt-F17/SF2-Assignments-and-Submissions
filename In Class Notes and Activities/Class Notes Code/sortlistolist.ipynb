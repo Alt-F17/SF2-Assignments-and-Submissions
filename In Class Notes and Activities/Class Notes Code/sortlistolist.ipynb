{
 "cells": [
  {
   "cell_type": "markdown",
   "metadata": {},
   "source": [
    "Sort a list of list\n",
    "Sort each sublist in decreasing order\n",
    "cannot use any built-in function\n",
    "define a sort function that sorts both increasing and decreasing"
   ]
  },
  {
   "cell_type": "code",
   "execution_count": 34,
   "metadata": {},
   "outputs": [
    {
     "name": "stdout",
     "output_type": "stream",
     "text": [
      "[[78, 5, 4, 3], [77, 12, 5, 3], [90, 3, 0]]\n",
      "[[3, 4, 5, 78], [3, 5, 12, 77], [0, 3, 90]]\n"
     ]
    }
   ],
   "source": [
    "lsts = [[3,78,4,5],[12,3,77,5],[3,90,0]]\n",
    "\n",
    "# Output: [[78,5,4,3], [77,12,5,3], [90,3,0]]\n",
    "\n",
    "# No built-in functions\n",
    "\n",
    "# Use a quick sort algorithm\n",
    "\n",
    "def sort_lists(lsts, order):\n",
    "    for lst in lsts:\n",
    "        for i in range(len(lst)):\n",
    "            for j in range(i+1, len(lst)):\n",
    "                if lst[i] < lst[j]:\n",
    "                    lst[i], lst[j] = lst[j], lst[i]\n",
    "    if order == 'asc':\n",
    "        for i in range(len(lsts)):\n",
    "            lsts[i] = lsts[i][::-1]\n",
    "    return lsts\n",
    "\n",
    "\n",
    "\n",
    "\n",
    "\n",
    "print(sort_lists(lsts, 'desc'))\n",
    "print(sort_lists(lsts, 'asc'))"
   ]
  },
  {
   "cell_type": "code",
   "execution_count": null,
   "metadata": {},
   "outputs": [
    {
     "name": "stdout",
     "output_type": "stream",
     "text": [
      "[[0, 3, 90], [3, 4, 5, 78], [3, 5, 12, 77]]\n"
     ]
    }
   ],
   "source": [
    "def insertion_sort(lsts, mode=True): # Only works for single lists\n",
    "    n = len(lsts)\n",
    "\n",
    "    if n <=1:\n",
    "        return lsts\n",
    "    \n",
    "    for i in range(1,n):\n",
    "        elem = lsts[i]\n",
    "        j = i-1\n",
    "        while j >= 0 and elem < lsts[j]:\n",
    "            lsts[j+1] = lsts[j]\n",
    "            j-=1\n",
    "        lsts[j+1] = elem\n",
    "    return lsts\n",
    "\n",
    "print(insertion_sort(lsts))\n"
   ]
  },
  {
   "cell_type": "code",
   "execution_count": 36,
   "metadata": {},
   "outputs": [
    {
     "name": "stdout",
     "output_type": "stream",
     "text": [
      "[[1, 4, 7, 10], [2, 5, 8, 11], [3, 6, 9, 12]]\n",
      "[[1, 2, 3], [4, 5, 6], [7, 8, 9], [10, 11, 12]]\n"
     ]
    }
   ],
   "source": [
    "lst2 = [1, 2374, 285, 98, 7]\n",
    "\n",
    "matrix1 = [[1,2,3], [4,5,6], [7,8,9], [10,11,12]] # Output: matrix2 =[[1,4,7,10], [2,5,8,11], [3,6,9,12]]\n",
    "\n",
    "matrix2 = [[sub[i] for sub in matrix1] for i in range(len(matrix1[1]))]\n",
    "\n",
    "matrix3 = [[sub[i] for sub in matrix2] for i in range(len(matrix2[1]))]\n",
    "\n",
    "print(matrix2)\n",
    "print(matrix3)"
   ]
  }
 ],
 "metadata": {
  "kernelspec": {
   "display_name": "Python 3",
   "language": "python",
   "name": "python3"
  },
  "language_info": {
   "codemirror_mode": {
    "name": "ipython",
    "version": 3
   },
   "file_extension": ".py",
   "mimetype": "text/x-python",
   "name": "python",
   "nbconvert_exporter": "python",
   "pygments_lexer": "ipython3",
   "version": "3.11.9"
  }
 },
 "nbformat": 4,
 "nbformat_minor": 2
}
