{
 "cells": [
  {
   "cell_type": "markdown",
   "metadata": {},
   "source": [
    "### Question 1: Pascal's Triangle\n",
    "Create Pascal's Triangle more efficiently than $O(n^3)$-time and $O(n^2)$-space."
   ]
  },
  {
   "cell_type": "code",
   "execution_count": 6,
   "metadata": {},
   "outputs": [
    {
     "name": "stdout",
     "output_type": "stream",
     "text": [
      "1 \n",
      "1 1 \n",
      "1 2 1 \n",
      "1 3 3 1 \n",
      "1 4 6 4 1 \n",
      "1 5 10 10 5 1 \n",
      "1 6 15 20 15 6 1 \n",
      "1 7 21 35 35 21 7 1 \n",
      "1 8 28 56 70 56 28 8 1 \n",
      "1 9 36 84 126 126 84 36 9 1 \n",
      "1 10 45 120 210 252 210 120 45 10 1 \n",
      "1 11 55 165 330 462 462 330 165 55 11 1 \n",
      " --- End of Question 1 ---\n"
     ]
    }
   ],
   "source": [
    "def binom(n, k):\n",
    "    if k == 0 or k == n:\n",
    "        return 1\n",
    "    else:\n",
    "        return binom(n-1, k-1) + binom(n-1, k)\n",
    "\n",
    "def pascal_print(n):\n",
    "    for row in range(n):\n",
    "        for k in range(row+1):\n",
    "            print(binom(row, k), end=' ')\n",
    "        print()\n",
    "\n",
    "pascal_print(int(input(\"Enter the number of rows: \")))\n",
    "print(\" --- End of Question 1 ---\")"
   ]
  },
  {
   "cell_type": "markdown",
   "metadata": {},
   "source": [
    "### Question 2: Toyboxes\n",
    "Given n unopened boxes, with k figurines inside (where boxes cannot be rotated (otherwise figurines will face \n",
    "wrong way)):\n",
    "\n",
    "Each figurine is specified by its height. For example, in a given box, figurine from left to right: \n",
    "[4,5,7]\n",
    "\n",
    "We would like to organize all the toy boxes such that they are in a non-decreasing order or fig height from left to right,however, this may not be possible with our given boxes, hense we need to see if such an arrangement is even possible.\n",
    "\n",
    "**input:** \n",
    "- first line: n {number of boxes}\n",
    "- for n:\n",
    "    - k {number of toys in box} *[space]* **h1** *[space]* **h2** *[space]* ... *[space]* **hk** {height of each toy, each height is >=1}\n",
    "\n",
    "**output:**\n",
    "- **YES** if it is possible to arrange the boxes in \n",
    "non-decreasing order of height\n",
    "- **NO** otherwise"
   ]
  },
  {
   "cell_type": "code",
   "execution_count": null,
   "metadata": {},
   "outputs": [],
   "source": [
    "# MAIN PROGRAM:\n",
    "\n",
    "# Read input\n",
    "boxes = []\n",
    "\n",
    "n = int(input(\"Number of boxes: \"))\n",
    "for i in range(n):\n",
    "    k = int(input(f\"Number of toys in box #{i+1}: \"))\n",
    "    heights = [int(input(f\"Height of toy #{j+1}: \")) for j in range(k)]\n",
    "    boxes.append(heights)\n",
    "\n",
    "# Check if all boxes are already in non-decreasing order\n",
    "# if not, print NO and exit\n",
    "\n",
    "intervals = []\n",
    "for box in boxes:\n",
    "    if box != sorted(box):\n",
    "        print(\"Question 3: Result: NO\")\n",
    "    # Get the interval heights of each box (first and last height)\n",
    "    intervals.append([box[0], box[-1]])\n",
    "\n",
    "# Sort the boxes by first interval (i.e. the intervals)\n",
    "\n",
    "for i in range(len(intervals)):\n",
    "    for j in range(i+1, len(intervals)):\n",
    "        if intervals[i][0] > intervals[j][0]:\n",
    "            intervals[i], intervals[j] = intervals[j], intervals[i]\n",
    "\n",
    "# Check if every last interval of a previous box is lower than the first interval of the next box\n",
    "# if not, print NO and exit\n",
    "\n",
    "for i in range(len(intervals)-1):\n",
    "    if intervals[i][1] > intervals[i+1][0]:\n",
    "        print(\"Question 3: Result: NO\")\n",
    "\n",
    "print(\"Question 3: Result: YES\")\n",
    "print(\"Question 3: Sorted Boxes:\", boxes)"
   ]
  },
  {
   "cell_type": "markdown",
   "metadata": {},
   "source": [
    "### Question 3: Baker's Bonus\n",
    "\n",
    "A bakery has multiple franchises opened and wants to congratulate the franchises that have performed well throughout the years, as well as congratulate everyone for performing well on certain days of the year.  \n",
    "\n",
    "Congratulations are offered as follows:\n",
    "- If in a single day all franchises combined sell an amount of baked goods that is equivalent to multiple of baker's dozen (i.e. 13), then all franchises will receive a bonus\n",
    "- If an individual franchise, throughout its entire existence, has sold an amount of baked goods that is equivalent to a multiple of a baker's dozen (i.e. 13), then the franchise will receive a bonus.  \n",
    "\n",
    "**INPUT SPECIFICATION:**\n",
    "- First line of input contains 2 values: **F** and **D** separated by a space.  F represents the number of franchises that the bakery has and D represents the number of days of information\n",
    "- On the next D lines, there will be F integers separated by spaces, such that the **i**-th integer online **j** represents the number of baked goods sold by franchise **i** on day **j**.  \n",
    "\n",
    "**OUTPUT SPECIFICATION:**\n",
    "- Determine, for each day (across all franchises) and for each franchise (across all days), whether or not the number of baked goods sold is a multiple of 13. If so, track how many baker's dozens were sold. Report the total number of baker's dozens as a single integer on its own line.  \n",
    "\n",
    "**Sample Input-1**\n",
    "\n",
    ">4 5  \n",
    ">4 3 2 4  \n",
    ">3 3 2 1  \n",
    ">8 2 4 1  \n",
    ">2 2 4 3  \n",
    ">9 3 2 3  \n",
    "\n",
    "**Sample Output-1**\n",
    "\n",
    ">4\n",
    "\n",
    "**Sample Input-2**\n",
    "\n",
    ">4 2  \n",
    ">4 4 4 1  \n",
    ">1 1 3 4  \n",
    "\n",
    "**Sample Output-2**\n",
    "\n",
    ">1\n",
    "\n",
    "Explanation of Sample Output:\n",
    "\n",
    "- **SAMPLE 1:** In the first case, the first franchise sold a total of 26 baked goods (which is 2 baker's dozens), the second franchise sold a total of 13 baked goods (which is 1 baker's dozen), and finally, all franchises together sold 13 baked goods on the first day (which is 1 baker's dozen). This totals to **4** baker's dozens.\n",
    "\n",
    "- **SAMPLE 2:** For the second dataset, no franchises made enough baked goods on their own, but there was a single baker's dozen created among them all on the first day. This totals to **1** baker's dozen."
   ]
  },
  {
   "cell_type": "code",
   "execution_count": null,
   "metadata": {},
   "outputs": [
    {
     "name": "stdout",
     "output_type": "stream",
     "text": [
      "Question 3: Number of Baker's Dozens: 4\n"
     ]
    }
   ],
   "source": [
    "F_D = input().split()\n",
    "F = int(F_D[0])\n",
    "D = int(F_D[1])\n",
    "data = []\n",
    "\n",
    "for _ in range(D):\n",
    "    line = input().split()\n",
    "    row = []\n",
    "    for num in line:\n",
    "        row.append(int(num))\n",
    "    data.append(row)\n",
    "\n",
    "def baker_bonus(data):\n",
    "    total_bakers_dozens = 0\n",
    "\n",
    "    for day in range(D):\n",
    "        day_total = 0\n",
    "        for franchise in range(F):\n",
    "            day_total += data[day][franchise]\n",
    "        if day_total % 13 == 0:\n",
    "            total_bakers_dozens += day_total // 13\n",
    "\n",
    "    for franchise in range(F):\n",
    "        franchise_total = 0\n",
    "        for day in range(D):\n",
    "            franchise_total += data[day][franchise]\n",
    "        if franchise_total % 13 == 0:\n",
    "            total_bakers_dozens += franchise_total // 13\n",
    "    \n",
    "    return total_bakers_dozens\n",
    "\n",
    "print(\"Question 3: Number of Baker's Dozens:\", baker_bonus(data))"
   ]
  },
  {
   "cell_type": "markdown",
   "metadata": {},
   "source": [
    "### Question 4: Unique Paths \n",
    "\n",
    "Given a m by n matrix, you are to determine and print the number of unique paths starting at the top left corner andending at the bottom right corner of the matrix. The onlypossible moves that can be made are either a move to the right or down. \n",
    "\n",
    "**Example-1:**\n",
    "\n",
    "```py\n",
    "      0  1\n",
    "[0   [x, x],\n",
    " 1   [x, x]  ]\n",
    "```\n",
    "\n",
    "- path 1: (0, 0) --> (0, 1) --> (1, 1)\n",
    "- path 2: (0, 0) --> (1, 0) --> (1, 1)\n",
    "\n",
    "**=> output:** 2\n",
    "\n",
    "\n",
    "\n",
    "**Example-2:**\n",
    "\n",
    "```py\n",
    "      0  1  2\n",
    "[0   [x, x, x],\n",
    " 1   [x, x, x],\n",
    " 2   [x, x, x]  ]\n",
    "```\n",
    "\n",
    "- path 1: (0, 0) --> (0, 1) --> (0, 2) --> (1, 2)\n",
    "- path 2: (0, 0) --> (0, 1) --> (1, 1) --> (1, 2)\n",
    "- path 3: (0, 0) --> (1, 0) --> (1, 1) --> (1, 2)\n",
    "\n",
    "**=> output:** 3"
   ]
  },
  {
   "cell_type": "code",
   "execution_count": null,
   "metadata": {},
   "outputs": [
    {
     "name": "stdout",
     "output_type": "stream",
     "text": [
      "Number of unique paths: 35\n"
     ]
    }
   ],
   "source": [
    "def unique_paths(m, n):\n",
    "    if m == 1 or n == 1:\n",
    "        return 1\n",
    "    return unique_paths(m-1, n) + unique_paths(m, n-1)\n",
    "\n",
    "print(\"Question 4: Number of unique paths:\", unique_paths(int(input(\"Enter the number of rows: \")), int(input(\"Enter the number of columns: \"))))"
   ]
  },
  {
   "cell_type": "markdown",
   "metadata": {},
   "source": [
    "### Question 5: Pascal's Triangle (Again)\n",
    "Update Pascal's Triangle code so that your algorithm uses only O(1) space.  "
   ]
  },
  {
   "cell_type": "code",
   "execution_count": 2,
   "metadata": {},
   "outputs": [
    {
     "name": "stdout",
     "output_type": "stream",
     "text": [
      "Question 5: Already Did!\n"
     ]
    }
   ],
   "source": [
    "print(\"Question 5: Already Did!\")"
   ]
  }
 ],
 "metadata": {
  "kernelspec": {
   "display_name": "Python 3",
   "language": "python",
   "name": "python3"
  },
  "language_info": {
   "codemirror_mode": {
    "name": "ipython",
    "version": 3
   },
   "file_extension": ".py",
   "mimetype": "text/x-python",
   "name": "python",
   "nbconvert_exporter": "python",
   "pygments_lexer": "ipython3",
   "version": "3.11.9"
  }
 },
 "nbformat": 4,
 "nbformat_minor": 2
}
