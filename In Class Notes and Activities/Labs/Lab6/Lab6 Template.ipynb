{
 "cells": [
  {
   "cell_type": "markdown",
   "metadata": {},
   "source": [
    "### Question 1: Pascal's Triangle\n",
    "Create Pascal's Triangle more efficiently than $O(n^3)$-time and $O(n^2)$-space."
   ]
  },
  {
   "cell_type": "code",
   "execution_count": null,
   "metadata": {},
   "outputs": [],
   "source": []
  },
  {
   "cell_type": "markdown",
   "metadata": {},
   "source": [
    "### Question 2: Toyboxes\n",
    "Given n unopened boxes, with k figurines inside (where boxes cannot be rotated (otherwise figurines will face \n",
    "wrong way)):\n",
    "\n",
    "Each figurine is specified by its height. For example, in a given box, figurine from left to right: \n",
    "[4,5,7]\n",
    "\n",
    "We would like to organize all the toy boxes such that they are in a non-decreasing order or fig height from left to right,however, this may not be possible with our given boxes, hense we need to see if such an arrangement is even possible.\n",
    "\n",
    "**input:** \n",
    "- first line: n {number of boxes}\n",
    "- for n:\n",
    "    - k {number of toys in box} *[space]* **h1** *[space]* **h2** *[space]* ... *[space]* **hk** {height of each toy, each height is >=1}\n",
    "\n",
    "**output:**\n",
    "- **YES** if it is possible to arrange the boxes in \n",
    "non-decreasing order of height\n",
    "- **NO** otherwise"
   ]
  },
  {
   "cell_type": "code",
   "execution_count": null,
   "metadata": {},
   "outputs": [],
   "source": []
  },
  {
   "cell_type": "markdown",
   "metadata": {},
   "source": [
    "### Question 3: Baker's Bonus\n",
    "\n",
    "A bakery has multiple franchises opened and wants to congratulate the franchises that have performed well throughout the years, as well as congratulate everyone for performing well on certain days of the year.  \n",
    "\n",
    "Congratulations are offered as follows:\n",
    "- If in a single day all franchises combined sell an amount of baked goods that is equivalent to multiple of baker's dozen (i.e. 13), then all franchises will receive a bonus\n",
    "- If an individual franchise, throughout its entire existence, has sold an amount of baked goods that is equivalent to a multiple of a baker's dozen (i.e. 13), then the franchise will receive a bonus.  \n",
    "\n",
    "**INPUT SPECIFICATION:**\n",
    "- First line of input contains 2 values: **F** and **D** separated by a space.  F represents the number of franchises that the bakery has and D represents the number of days of information\n",
    "- On the next D lines, there will be F integers separated by spaces, such that the **i**-th integer online **j** represents the number of baked goods sold by franchise **i** on day **j**.  \n",
    "\n",
    "**OUTPUT SPECIFICATION:**\n",
    "- Determine, for each day (across all franchises) and for each franchise (across all days), whether or not the number of baked goods sold is a multiple of 13. If so, track how many baker's dozens were sold. Report the total number of baker's dozens as a single integer on its own line.  \n",
    "\n",
    "**Sample Input-1**\n",
    "\n",
    ">4 5  \n",
    ">4 3 2 4  \n",
    ">3 3 2 1  \n",
    ">8 2 4 1  \n",
    ">2 2 4 3  \n",
    ">9 3 2 3  \n",
    "\n",
    "**Sample Output-1**\n",
    "\n",
    ">4\n",
    "\n",
    "**Sample Input-2**\n",
    "\n",
    ">4 2  \n",
    ">4 4 4 1  \n",
    ">1 1 3 4  \n",
    "\n",
    "**Sample Output-2**\n",
    "\n",
    ">1\n",
    "\n",
    "Explanation of Sample Output:\n",
    "\n",
    "- **SAMPLE 1:** In the first case, the first franchise sold a total of 26 baked goods (which is 2 baker's dozens), the second franchise sold a total of 13 baked goods (which is 1 baker's dozen), and finally, all franchises together sold 13 baked goods on the first day (which is 1 baker's dozen). This totals to **4** baker's dozens.\n",
    "\n",
    "- **SAMPLE 2:** For the second dataset, no franchises made enough baked goods on their own, but there was a single baker's dozen created among them all on the first day. This totals to **1** baker's dozen."
   ]
  },
  {
   "cell_type": "code",
   "execution_count": null,
   "metadata": {},
   "outputs": [],
   "source": []
  },
  {
   "cell_type": "markdown",
   "metadata": {},
   "source": [
    "### Question 4: Unique Paths \n",
    "\n",
    "Given a m by n matrix, you are to determine and print the number of unique paths starting at the top left corner andending at the bottom right corner of the matrix. The onlypossible moves that can be made are either a move to the right or down. \n",
    "\n",
    "**Example-1:**\n",
    "\n",
    "```py\n",
    "      0  1\n",
    "[0   [x, x],\n",
    " 1   [x, x]  ]\n",
    "```\n",
    "\n",
    "- path 1: (0, 0) --> (0, 1) --> (1, 1)\n",
    "- path 2: (0, 0) --> (1, 0) --> (1, 1)\n",
    "\n",
    "**=> output:** 2\n",
    "\n",
    "\n",
    "\n",
    "**Example-2:**\n",
    "\n",
    "```py\n",
    "      0  1  2\n",
    "[0   [x, x, x],\n",
    " 1   [x, x, x],\n",
    " 2   [x, x, x]  ]\n",
    "```\n",
    "\n",
    "- path 1: (0, 0) --> (0, 1) --> (0, 2) --> (1, 2)\n",
    "- path 2: (0, 0) --> (0, 1) --> (1, 1) --> (1, 2)\n",
    "- path 3: (0, 0) --> (1, 0) --> (1, 1) --> (1, 2)\n",
    "\n",
    "**=> output:** 3"
   ]
  },
  {
   "cell_type": "code",
   "execution_count": null,
   "metadata": {},
   "outputs": [],
   "source": []
  },
  {
   "cell_type": "markdown",
   "metadata": {},
   "source": [
    "### Question 5: Pascal's Triangle (Again)\n",
    "Update Pascal's Triangle code so that your algorithm uses only O(1) space.  "
   ]
  },
  {
   "cell_type": "code",
   "execution_count": null,
   "metadata": {},
   "outputs": [],
   "source": []
  }
 ],
 "metadata": {
  "kernelspec": {
   "display_name": "Python 3",
   "language": "python",
   "name": "python3"
  },
  "language_info": {
   "codemirror_mode": {
    "name": "ipython",
    "version": 3
   },
   "file_extension": ".py",
   "mimetype": "text/x-python",
   "name": "python",
   "nbconvert_exporter": "python",
   "pygments_lexer": "ipython3",
   "version": "3.11.9"
  }
 },
 "nbformat": 4,
 "nbformat_minor": 2
}
